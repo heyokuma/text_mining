{
 "cells": [
  {
   "cell_type": "markdown",
   "metadata": {},
   "source": [
    "# Import libraries"
   ]
  },
  {
   "cell_type": "code",
   "execution_count": 25,
   "metadata": {
    "ExecuteTime": {
     "end_time": "2019-07-04T02:42:37.122635Z",
     "start_time": "2019-07-04T02:42:37.118671Z"
    }
   },
   "outputs": [],
   "source": [
    "import requests\n",
    "import re\n",
    "from bs4 import BeautifulSoup\n",
    "import pandas as pd\n",
    "import numpy as np\n",
    "from datetime import datetime\n",
    "import extruct\n",
    "from w3lib.html import get_base_url\n",
    "import pprint"
   ]
  },
  {
   "cell_type": "markdown",
   "metadata": {},
   "source": [
    "# Get title name&url for 2 pages (just for example)"
   ]
  },
  {
   "cell_type": "code",
   "execution_count": 26,
   "metadata": {
    "ExecuteTime": {
     "end_time": "2019-07-04T02:42:37.444987Z",
     "start_time": "2019-07-04T02:42:37.441027Z"
    },
    "code_folding": []
   },
   "outputs": [],
   "source": [
    "def scrape_url_for_pages(url, p, title_name, title_url):\n",
    "    res = requests.get(url+str(p))\n",
    "    soup = BeautifulSoup(res.text,'html.parser')\n",
    "    \n",
    "    for description in soup.select('a.introa_medium.introa_news'):\n",
    "        title_url.append(description['href'])\n",
    "    \n",
    "    for description in soup.select('a.introa_medium.introa_news > article > div.introa_rm_text > h2.introa_title'):\n",
    "        title_name.append(description.text)\n",
    "    \n",
    "    return title_name, title_url"
   ]
  },
  {
   "cell_type": "code",
   "execution_count": 27,
   "metadata": {
    "ExecuteTime": {
     "end_time": "2019-07-04T02:42:37.837098Z",
     "start_time": "2019-07-04T02:42:37.832112Z"
    }
   },
   "outputs": [],
   "source": [
    "# You can choose to save urls to a file or just to dataframe\n",
    "def scrape_urls_to_df(pages):\n",
    "    title_name=[]\n",
    "    title_url=[]\n",
    "    \n",
    "    url = \"https://www.notebookcheck.net/?&hide_youtube=1&page=\"\n",
    "    title_name, title_url = scrape_url_for_pages(url, pages, title_name, title_url)\n",
    "    \n",
    "    result = pd.DataFrame({'TITLE':title_name, 'TITLE_URL': title_url})\n",
    "    #writer = pd.ExcelWriter(r'Scrap_notebookcheck_'+datetime.now().strftime('%Y-%m-%d')+'.xlsx', engine='xlsxwriter',options={'strings_to_urls': False})\n",
    "    #result.to_excel(writer)\n",
    "    #writer.close()\n",
    "    return result"
   ]
  },
  {
   "cell_type": "code",
   "execution_count": 28,
   "metadata": {
    "ExecuteTime": {
     "end_time": "2019-07-04T02:42:39.940193Z",
     "start_time": "2019-07-04T02:42:38.128476Z"
    }
   },
   "outputs": [],
   "source": [
    "df = scrape_urls_to_df(2)"
   ]
  },
  {
   "cell_type": "code",
   "execution_count": 29,
   "metadata": {
    "ExecuteTime": {
     "end_time": "2019-07-04T02:42:44.588766Z",
     "start_time": "2019-07-04T02:42:44.551865Z"
    },
    "scrolled": true
   },
   "outputs": [
    {
     "data": {
      "text/html": [
       "<div>\n",
       "<style scoped>\n",
       "    .dataframe tbody tr th:only-of-type {\n",
       "        vertical-align: middle;\n",
       "    }\n",
       "\n",
       "    .dataframe tbody tr th {\n",
       "        vertical-align: top;\n",
       "    }\n",
       "\n",
       "    .dataframe thead th {\n",
       "        text-align: right;\n",
       "    }\n",
       "</style>\n",
       "<table border=\"1\" class=\"dataframe\">\n",
       "  <thead>\n",
       "    <tr style=\"text-align: right;\">\n",
       "      <th></th>\n",
       "      <th>TITLE</th>\n",
       "      <th>TITLE_URL</th>\n",
       "    </tr>\n",
       "  </thead>\n",
       "  <tbody>\n",
       "    <tr>\n",
       "      <th>0</th>\n",
       "      <td>Dell Prime Day slashes $200 off the XPS 15 957...</td>\n",
       "      <td>https://www.notebookcheck.net/Dell-Prime-Day-s...</td>\n",
       "    </tr>\n",
       "    <tr>\n",
       "      <th>1</th>\n",
       "      <td>Windows Calculator ports for Android, iOS and ...</td>\n",
       "      <td>https://www.notebookcheck.net/Windows-Calculat...</td>\n",
       "    </tr>\n",
       "    <tr>\n",
       "      <th>2</th>\n",
       "      <td>Sharkoon claims its Gaming DAC Pro S can deliv...</td>\n",
       "      <td>https://www.notebookcheck.net/Sharkoon-claims-...</td>\n",
       "    </tr>\n",
       "    <tr>\n",
       "      <th>3</th>\n",
       "      <td>Motorola cancels plans to release Pie for its ...</td>\n",
       "      <td>https://www.notebookcheck.net/Motorola-cancels...</td>\n",
       "    </tr>\n",
       "    <tr>\n",
       "      <th>4</th>\n",
       "      <td>There are two Snapdragon 855-powered Samsung G...</td>\n",
       "      <td>https://www.notebookcheck.net/There-are-two-Sn...</td>\n",
       "    </tr>\n",
       "  </tbody>\n",
       "</table>\n",
       "</div>"
      ],
      "text/plain": [
       "                                               TITLE  \\\n",
       "0  Dell Prime Day slashes $200 off the XPS 15 957...   \n",
       "1  Windows Calculator ports for Android, iOS and ...   \n",
       "2  Sharkoon claims its Gaming DAC Pro S can deliv...   \n",
       "3  Motorola cancels plans to release Pie for its ...   \n",
       "4  There are two Snapdragon 855-powered Samsung G...   \n",
       "\n",
       "                                           TITLE_URL  \n",
       "0  https://www.notebookcheck.net/Dell-Prime-Day-s...  \n",
       "1  https://www.notebookcheck.net/Windows-Calculat...  \n",
       "2  https://www.notebookcheck.net/Sharkoon-claims-...  \n",
       "3  https://www.notebookcheck.net/Motorola-cancels...  \n",
       "4  https://www.notebookcheck.net/There-are-two-Sn...  "
      ]
     },
     "execution_count": 29,
     "metadata": {},
     "output_type": "execute_result"
    }
   ],
   "source": [
    "df.head()"
   ]
  },
  {
   "cell_type": "markdown",
   "metadata": {},
   "source": [
    "# Use Pages in Step 1 to get articles"
   ]
  },
  {
   "cell_type": "markdown",
   "metadata": {},
   "source": [
    "- In this function, we can get contents by single url"
   ]
  },
  {
   "cell_type": "code",
   "execution_count": 4,
   "metadata": {
    "ExecuteTime": {
     "end_time": "2019-07-04T02:34:02.014508Z",
     "start_time": "2019-07-04T02:34:02.009522Z"
    }
   },
   "outputs": [],
   "source": [
    "def scrap_news(url):\n",
    "    res = requests.get(url)\n",
    "    soup = BeautifulSoup(res.text,'html.parser')\n",
    "    \n",
    "    abstract = soup.select('div.news-abstract')[0].text\n",
    "    author_date = soup.select('div.news-author-date')[0].text\n",
    "    \n",
    "    contents = []\n",
    "    for t in soup.select('p.bodytext'):\n",
    "        contents.append(t.text.strip())\n",
    "    \n",
    "    contents = \" \".join(contents)\n",
    "        \n",
    "    return abstract, author_date, contents"
   ]
  },
  {
   "cell_type": "markdown",
   "metadata": {},
   "source": [
    "- example"
   ]
  },
  {
   "cell_type": "code",
   "execution_count": 38,
   "metadata": {
    "ExecuteTime": {
     "end_time": "2019-07-04T02:52:27.369846Z",
     "start_time": "2019-07-04T02:52:26.605528Z"
    },
    "scrolled": true
   },
   "outputs": [
    {
     "data": {
      "text/plain": [
       "('Starting July 1st, Dell will be rolling out deals for its Inspiron, XPS, Alienware, Vostro, Precision, and G Series of PCs to piggy back on the success of Amazon Prime Day. Many of the price cuts are for older models in order to make room for the new models revealed at Computex 2019.',\n",
       " 'by Allen Ngo, 2019/06/27',\n",
       " 'Called \"Black Friday in July\", Dell will be joining other major retailers next month with deals and price cuts across a wide range of devices spanning personal PCs, gaming PCs, business PCs, and plenty of accessories as summarized below. It\\'s important to note that the deals will not be in effect until July 1st and that many will be spread across a two-week period to minimize the risk of traffic overload and empty shopping carts at checkout. Of the major deals listed, notable ones include the XPS 15 9570 with Core i7-8750H for $1350 and the Alienware m15 R1 with Core i7-9750H for $1700. These systems will be refreshed very soon with the upcoming XPS 15 7590 and Alienware m15 R2, respectively. While the sale isn\\'t live just yet, users can still browse through the selection here. Top Consumer PC Deals: Deals available via Dell.com/blackfriday   Top Small Business Deals: Deals available via Dell.com/businessdeals   Top Gaming Deals: Deals available via Dell.com/blackfriday   Top Electronics & Accessory Deals: Deals available via Dell.com/blackfriday  Dell Top 10 LaptopsMultimedia, Budget Multimedia, Gaming, Budget Gaming, Lightweight Gaming, Business, Budget Office, Workstation, Subnotebooks, Ultrabooks, Chromebooks under 300 USD/Euros, under 500 USD/Euros, 1.000 USD/Euros Best Displays, for University Students Top 10 SmartphonesSmartphones, Phablets, ≤5-inch,\\xa0Camera SmartphonesNotebookcheck\\'s Top 10 Smartphones under 160 Euros')"
      ]
     },
     "execution_count": 38,
     "metadata": {},
     "output_type": "execute_result"
    }
   ],
   "source": [
    "scrap_news(df['TITLE_URL'][0])"
   ]
  },
  {
   "cell_type": "markdown",
   "metadata": {},
   "source": [
    "# But actually, we want all the contents of urls:"
   ]
  },
  {
   "cell_type": "code",
   "execution_count": 59,
   "metadata": {
    "ExecuteTime": {
     "end_time": "2019-07-04T02:59:38.620808Z",
     "start_time": "2019-07-04T02:59:38.547974Z"
    },
    "scrolled": true
   },
   "outputs": [],
   "source": [
    "def scrap_news_urls(url_list):\n",
    "    abstract = []\n",
    "    author_date = []\n",
    "    article = []\n",
    "    for url in url_list:\n",
    "        \n",
    "        res = requests.get(url)\n",
    "        soup = BeautifulSoup(res.text,'html.parser')\n",
    "\n",
    "        abstract.append(soup.select('div.news-abstract')[0].text)\n",
    "        author_date.append(soup.select('div.news-author-date')[0].text)\n",
    "        # if you want to split author and date\n",
    "        # author = soup.select('div.news-author-date')[0].text.split(',')[0]\n",
    "        # date = soup.select('div.news-author-date')[0].text.split(',')[1]\n",
    "\n",
    "        contents = [] # collect all the contents (bodytext)\n",
    "        for t in soup.select('p.bodytext'):\n",
    "            contents.append(t.text.strip())\n",
    "\n",
    "        contents = \" \".join(contents)\n",
    "        \n",
    "        article.append(contents)\n",
    "        \n",
    "    return abstract, author_date, article"
   ]
  },
  {
   "cell_type": "code",
   "execution_count": 61,
   "metadata": {
    "ExecuteTime": {
     "end_time": "2019-07-04T03:02:35.378850Z",
     "start_time": "2019-07-04T03:01:35.895116Z"
    }
   },
   "outputs": [],
   "source": [
    "abstract, author_date, article = scrap_news_urls(df['TITLE_URL'])\n",
    "result = pd.DataFrame({'TITLE':df['TITLE'], 'TITLE_URL': df['TITLE_URL'], 'ABSTRACT':abstract,\n",
    "                      'AUTHOR_DATE': author_date, 'CONTENTS': article})"
   ]
  },
  {
   "cell_type": "code",
   "execution_count": 64,
   "metadata": {
    "ExecuteTime": {
     "end_time": "2019-07-04T03:02:59.870640Z",
     "start_time": "2019-07-04T03:02:59.859669Z"
    }
   },
   "outputs": [
    {
     "data": {
      "text/html": [
       "<div>\n",
       "<style scoped>\n",
       "    .dataframe tbody tr th:only-of-type {\n",
       "        vertical-align: middle;\n",
       "    }\n",
       "\n",
       "    .dataframe tbody tr th {\n",
       "        vertical-align: top;\n",
       "    }\n",
       "\n",
       "    .dataframe thead th {\n",
       "        text-align: right;\n",
       "    }\n",
       "</style>\n",
       "<table border=\"1\" class=\"dataframe\">\n",
       "  <thead>\n",
       "    <tr style=\"text-align: right;\">\n",
       "      <th></th>\n",
       "      <th>ABSTRACT</th>\n",
       "      <th>AUTHOR_DATE</th>\n",
       "      <th>CONTENTS</th>\n",
       "      <th>TITLE</th>\n",
       "      <th>TITLE_URL</th>\n",
       "    </tr>\n",
       "  </thead>\n",
       "  <tbody>\n",
       "    <tr>\n",
       "      <th>40</th>\n",
       "      <td>Last year, OnePlus announced that it was to re...</td>\n",
       "      <td>by Deirdre O Donnell, 2019/06/25</td>\n",
       "      <td>OnePlus is mainly known as a maker of competit...</td>\n",
       "      <td>The OnePlus TV may not be OLED</td>\n",
       "      <td>https://www.notebookcheck.net/The-OnePlus-TV-m...</td>\n",
       "    </tr>\n",
       "    <tr>\n",
       "      <th>41</th>\n",
       "      <td>Samsung has allegedly filed a patent for a fol...</td>\n",
       "      <td>by Deirdre O Donnell, 2019/06/25</td>\n",
       "      <td>Samsung could be said to be running out of tim...</td>\n",
       "      <td>Next-gen Galaxy Folds could have punch-hole ca...</td>\n",
       "      <td>https://www.notebookcheck.net/Next-gen-Galaxy-...</td>\n",
       "    </tr>\n",
       "    <tr>\n",
       "      <th>42</th>\n",
       "      <td>At 67 C when gaming, you better make sure the ...</td>\n",
       "      <td>by Allen Ngo, 2019/06/25</td>\n",
       "      <td>We already noted in our review of the Blade Pr...</td>\n",
       "      <td>Hot hot hot: Razer Blade AC charger is the war...</td>\n",
       "      <td>https://www.notebookcheck.net/Hot-hot-hot-Raze...</td>\n",
       "    </tr>\n",
       "  </tbody>\n",
       "</table>\n",
       "</div>"
      ],
      "text/plain": [
       "                                             ABSTRACT  \\\n",
       "40  Last year, OnePlus announced that it was to re...   \n",
       "41  Samsung has allegedly filed a patent for a fol...   \n",
       "42  At 67 C when gaming, you better make sure the ...   \n",
       "\n",
       "                         AUTHOR_DATE  \\\n",
       "40  by Deirdre O Donnell, 2019/06/25   \n",
       "41  by Deirdre O Donnell, 2019/06/25   \n",
       "42          by Allen Ngo, 2019/06/25   \n",
       "\n",
       "                                             CONTENTS  \\\n",
       "40  OnePlus is mainly known as a maker of competit...   \n",
       "41  Samsung could be said to be running out of tim...   \n",
       "42  We already noted in our review of the Blade Pr...   \n",
       "\n",
       "                                                TITLE  \\\n",
       "40                     The OnePlus TV may not be OLED   \n",
       "41  Next-gen Galaxy Folds could have punch-hole ca...   \n",
       "42  Hot hot hot: Razer Blade AC charger is the war...   \n",
       "\n",
       "                                            TITLE_URL  \n",
       "40  https://www.notebookcheck.net/The-OnePlus-TV-m...  \n",
       "41  https://www.notebookcheck.net/Next-gen-Galaxy-...  \n",
       "42  https://www.notebookcheck.net/Hot-hot-hot-Raze...  "
      ]
     },
     "execution_count": 64,
     "metadata": {},
     "output_type": "execute_result"
    }
   ],
   "source": [
    "result.tail(3)"
   ]
  },
  {
   "cell_type": "markdown",
   "metadata": {},
   "source": [
    "# By the code above, we've collected the information of news.\n",
    "# Next step you can do text mining for these articles!"
   ]
  }
 ],
 "metadata": {
  "kernelspec": {
   "display_name": "Python 3",
   "language": "python",
   "name": "python3"
  },
  "language_info": {
   "codemirror_mode": {
    "name": "ipython",
    "version": 3
   },
   "file_extension": ".py",
   "mimetype": "text/x-python",
   "name": "python",
   "nbconvert_exporter": "python",
   "pygments_lexer": "ipython3",
   "version": "3.5.5"
  },
  "toc": {
   "base_numbering": 1,
   "nav_menu": {},
   "number_sections": true,
   "sideBar": true,
   "skip_h1_title": false,
   "title_cell": "Table of Contents",
   "title_sidebar": "Contents",
   "toc_cell": false,
   "toc_position": {},
   "toc_section_display": true,
   "toc_window_display": false
  }
 },
 "nbformat": 4,
 "nbformat_minor": 2
}
